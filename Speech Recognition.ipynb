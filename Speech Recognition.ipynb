{
 "cells": [
  {
   "cell_type": "code",
   "execution_count": 2,
   "id": "2b87cb37",
   "metadata": {},
   "outputs": [
    {
     "name": "stdout",
     "output_type": "stream",
     "text": [
      "Requirement already satisfied: SpeechRecognition in c:\\users\\lenovo\\anaconda3\\lib\\site-packages (3.10.0)\n",
      "Requirement already satisfied: requests>=2.26.0 in c:\\users\\lenovo\\anaconda3\\lib\\site-packages (from SpeechRecognition) (2.28.1)\n",
      "Requirement already satisfied: charset-normalizer<3,>=2 in c:\\users\\lenovo\\anaconda3\\lib\\site-packages (from requests>=2.26.0->SpeechRecognition) (2.0.4)\n",
      "Requirement already satisfied: urllib3<1.27,>=1.21.1 in c:\\users\\lenovo\\anaconda3\\lib\\site-packages (from requests>=2.26.0->SpeechRecognition) (1.26.14)\n",
      "Requirement already satisfied: idna<4,>=2.5 in c:\\users\\lenovo\\anaconda3\\lib\\site-packages (from requests>=2.26.0->SpeechRecognition) (3.4)\n",
      "Requirement already satisfied: certifi>=2017.4.17 in c:\\users\\lenovo\\anaconda3\\lib\\site-packages (from requests>=2.26.0->SpeechRecognition) (2023.7.22)\n",
      "Note: you may need to restart the kernel to use updated packages.\n"
     ]
    }
   ],
   "source": [
    "pip install SpeechRecognition"
   ]
  },
  {
   "cell_type": "code",
   "execution_count": 3,
   "id": "1f774479",
   "metadata": {},
   "outputs": [
    {
     "name": "stdout",
     "output_type": "stream",
     "text": [
      "Requirement already satisfied: pyttsx3 in c:\\users\\lenovo\\anaconda3\\lib\\site-packages (2.90)\n",
      "Requirement already satisfied: comtypes in c:\\users\\lenovo\\anaconda3\\lib\\site-packages (from pyttsx3) (1.2.0)\n",
      "Requirement already satisfied: pywin32 in c:\\users\\lenovo\\anaconda3\\lib\\site-packages (from pyttsx3) (305.1)\n",
      "Requirement already satisfied: pypiwin32 in c:\\users\\lenovo\\anaconda3\\lib\\site-packages (from pyttsx3) (223)\n",
      "Note: you may need to restart the kernel to use updated packages.\n"
     ]
    }
   ],
   "source": [
    "pip install pyttsx3"
   ]
  },
  {
   "cell_type": "code",
   "execution_count": 4,
   "id": "90021997",
   "metadata": {},
   "outputs": [],
   "source": [
    "import pyttsx3"
   ]
  },
  {
   "cell_type": "code",
   "execution_count": 5,
   "id": "5e7c30d3",
   "metadata": {},
   "outputs": [],
   "source": [
    "import speech_recognition as sr"
   ]
  },
  {
   "cell_type": "code",
   "execution_count": 6,
   "id": "73e6160e",
   "metadata": {},
   "outputs": [],
   "source": [
    "r = sr.Recognizer()"
   ]
  },
  {
   "cell_type": "code",
   "execution_count": 7,
   "id": "020068e6",
   "metadata": {},
   "outputs": [],
   "source": [
    "def talk(text):\n",
    "  engine = pyttsx3.init()\n",
    "  engine.say(text)\n",
    "  engine.runAndWait()"
   ]
  },
  {
   "cell_type": "markdown",
   "id": "b39bed16",
   "metadata": {},
   "source": [
    "# converting speech to text in real time"
   ]
  },
  {
   "cell_type": "code",
   "execution_count": 9,
   "id": "0eb9aa88",
   "metadata": {},
   "outputs": [
    {
     "name": "stdout",
     "output_type": "stream",
     "text": [
      "<--- NOW SPEAK --->\n",
      "speaker:  open Google\n",
      "<--- NOW SPEAK --->\n",
      "speaker:  open notebook\n",
      "<--- NOW SPEAK --->\n",
      "speaker:  notepad\n",
      "<--- NOW SPEAK --->\n",
      "speaker:  open Notepad\n",
      "<--- NOW SPEAK --->\n",
      "speaker:  quit\n"
     ]
    }
   ],
   "source": [
    "import os\n",
    "import webbrowser\n",
    "while True:\n",
    "      with sr.Microphone() as source:\n",
    "          # clear background noise\n",
    "         r.adjust_for_ambient_noise(source, duration=0.3)\n",
    "        \n",
    "         print(\"<--- NOW SPEAK --->\")\n",
    "         talk(\"now speak\")\n",
    "        \n",
    "         # capture the audio\n",
    "         audio = r.listen(source)\n",
    "        \n",
    "         try:\n",
    "            # converting the audio into text\n",
    "            text = r.recognize_google(audio)\n",
    "            print(\"speaker: \",text)\n",
    "            talk(text)\n",
    "                \n",
    "             # checking for various command in the text\n",
    "             \n",
    "            if text == \"open notepad\":\n",
    "                 os.system(\"notepad.exe\")\n",
    "            \n",
    "            # Open Google in the default web browser\n",
    "            if text == \"open google\":    \n",
    "                webbrowser.open(\"https://www.google.com\")\n",
    "                \n",
    "            if text == \"quit\":\n",
    "                 break\n",
    "                    \n",
    "         except sr.WaitTimeoutError:\n",
    "             print(\"Audio input timed out. Please speak again.\")\n",
    "         except sr.RequestError as e:\n",
    "             print(f\"Could not request results from Google's servers; {e}\")\n",
    "         except sr.UnknownValueError:\n",
    "             print(\"Google Speech Recognition could not understand audio. Please speak again.\")\n",
    "         except:\n",
    "             print(\"Please say again!!\")\n",
    "            \n",
    "        "
   ]
  },
  {
   "cell_type": "markdown",
   "id": "585b8583",
   "metadata": {},
   "source": [
    "# Chat GPT version"
   ]
  },
  {
   "cell_type": "code",
   "execution_count": 8,
   "id": "005ec709",
   "metadata": {},
   "outputs": [
    {
     "name": "stdout",
     "output_type": "stream",
     "text": [
      "<--- NOW SPEAK --->\n"
     ]
    },
    {
     "ename": "KeyboardInterrupt",
     "evalue": "",
     "output_type": "error",
     "traceback": [
      "\u001b[1;31m---------------------------------------------------------------------------\u001b[0m",
      "\u001b[1;31mKeyboardInterrupt\u001b[0m                         Traceback (most recent call last)",
      "Cell \u001b[1;32mIn[8], line 13\u001b[0m\n\u001b[0;32m     11\u001b[0m \u001b[38;5;28mprint\u001b[39m(\u001b[38;5;124m\"\u001b[39m\u001b[38;5;124m<--- NOW SPEAK --->\u001b[39m\u001b[38;5;124m\"\u001b[39m)\n\u001b[0;32m     12\u001b[0m talk(\u001b[38;5;124m\"\u001b[39m\u001b[38;5;124mnow speak\u001b[39m\u001b[38;5;124m\"\u001b[39m)\n\u001b[1;32m---> 13\u001b[0m audio \u001b[38;5;241m=\u001b[39m \u001b[43mr\u001b[49m\u001b[38;5;241;43m.\u001b[39;49m\u001b[43mlisten\u001b[49m\u001b[43m(\u001b[49m\u001b[43msource\u001b[49m\u001b[43m)\u001b[49m\n\u001b[0;32m     15\u001b[0m \u001b[38;5;28;01mtry\u001b[39;00m:\n\u001b[0;32m     16\u001b[0m     text \u001b[38;5;241m=\u001b[39m r\u001b[38;5;241m.\u001b[39mrecognize_google(audio)\n",
      "File \u001b[1;32m~\\anaconda3\\lib\\site-packages\\speech_recognition\\__init__.py:491\u001b[0m, in \u001b[0;36mRecognizer.listen\u001b[1;34m(self, source, timeout, phrase_time_limit, snowboy_configuration)\u001b[0m\n\u001b[0;32m    488\u001b[0m \u001b[38;5;28;01mif\u001b[39;00m timeout \u001b[38;5;129;01mand\u001b[39;00m elapsed_time \u001b[38;5;241m>\u001b[39m timeout:\n\u001b[0;32m    489\u001b[0m     \u001b[38;5;28;01mraise\u001b[39;00m WaitTimeoutError(\u001b[38;5;124m\"\u001b[39m\u001b[38;5;124mlistening timed out while waiting for phrase to start\u001b[39m\u001b[38;5;124m\"\u001b[39m)\n\u001b[1;32m--> 491\u001b[0m buffer \u001b[38;5;241m=\u001b[39m \u001b[43msource\u001b[49m\u001b[38;5;241;43m.\u001b[39;49m\u001b[43mstream\u001b[49m\u001b[38;5;241;43m.\u001b[39;49m\u001b[43mread\u001b[49m\u001b[43m(\u001b[49m\u001b[43msource\u001b[49m\u001b[38;5;241;43m.\u001b[39;49m\u001b[43mCHUNK\u001b[49m\u001b[43m)\u001b[49m\n\u001b[0;32m    492\u001b[0m \u001b[38;5;28;01mif\u001b[39;00m \u001b[38;5;28mlen\u001b[39m(buffer) \u001b[38;5;241m==\u001b[39m \u001b[38;5;241m0\u001b[39m: \u001b[38;5;28;01mbreak\u001b[39;00m  \u001b[38;5;66;03m# reached end of the stream\u001b[39;00m\n\u001b[0;32m    493\u001b[0m frames\u001b[38;5;241m.\u001b[39mappend(buffer)\n",
      "File \u001b[1;32m~\\anaconda3\\lib\\site-packages\\speech_recognition\\__init__.py:199\u001b[0m, in \u001b[0;36mMicrophone.MicrophoneStream.read\u001b[1;34m(self, size)\u001b[0m\n\u001b[0;32m    198\u001b[0m \u001b[38;5;28;01mdef\u001b[39;00m \u001b[38;5;21mread\u001b[39m(\u001b[38;5;28mself\u001b[39m, size):\n\u001b[1;32m--> 199\u001b[0m     \u001b[38;5;28;01mreturn\u001b[39;00m \u001b[38;5;28;43mself\u001b[39;49m\u001b[38;5;241;43m.\u001b[39;49m\u001b[43mpyaudio_stream\u001b[49m\u001b[38;5;241;43m.\u001b[39;49m\u001b[43mread\u001b[49m\u001b[43m(\u001b[49m\u001b[43msize\u001b[49m\u001b[43m,\u001b[49m\u001b[43m \u001b[49m\u001b[43mexception_on_overflow\u001b[49m\u001b[38;5;241;43m=\u001b[39;49m\u001b[38;5;28;43;01mFalse\u001b[39;49;00m\u001b[43m)\u001b[49m\n",
      "File \u001b[1;32m~\\anaconda3\\lib\\site-packages\\pyaudio.py:608\u001b[0m, in \u001b[0;36mStream.read\u001b[1;34m(self, num_frames, exception_on_overflow)\u001b[0m\n\u001b[0;32m    604\u001b[0m \u001b[38;5;28;01mif\u001b[39;00m \u001b[38;5;129;01mnot\u001b[39;00m \u001b[38;5;28mself\u001b[39m\u001b[38;5;241m.\u001b[39m_is_input:\n\u001b[0;32m    605\u001b[0m     \u001b[38;5;28;01mraise\u001b[39;00m \u001b[38;5;167;01mIOError\u001b[39;00m(\u001b[38;5;124m\"\u001b[39m\u001b[38;5;124mNot input stream\u001b[39m\u001b[38;5;124m\"\u001b[39m,\n\u001b[0;32m    606\u001b[0m                   paCanNotReadFromAnOutputOnlyStream)\n\u001b[1;32m--> 608\u001b[0m \u001b[38;5;28;01mreturn\u001b[39;00m \u001b[43mpa\u001b[49m\u001b[38;5;241;43m.\u001b[39;49m\u001b[43mread_stream\u001b[49m\u001b[43m(\u001b[49m\u001b[38;5;28;43mself\u001b[39;49m\u001b[38;5;241;43m.\u001b[39;49m\u001b[43m_stream\u001b[49m\u001b[43m,\u001b[49m\u001b[43m \u001b[49m\u001b[43mnum_frames\u001b[49m\u001b[43m,\u001b[49m\u001b[43m \u001b[49m\u001b[43mexception_on_overflow\u001b[49m\u001b[43m)\u001b[49m\n",
      "\u001b[1;31mKeyboardInterrupt\u001b[0m: "
     ]
    }
   ],
   "source": [
    "import speech_recognition as sr\n",
    "import pyttsx3\n",
    "import os\n",
    "\n",
    "r = sr.Recognizer()\n",
    "engine = pyttsx3.init()\n",
    "\n",
    "while True:\n",
    "    with sr.Microphone() as source:\n",
    "        r.adjust_for_ambient_noise(source, duration=0.3)\n",
    "        print(\"<--- NOW SPEAK --->\")\n",
    "        talk(\"now speak\")\n",
    "        audio = r.listen(source)\n",
    "\n",
    "        try:\n",
    "            text = r.recognize_google(audio)\n",
    "            print(\"speaker: \", text)\n",
    "            talk(text)\n",
    "            if text == \"quit\":\n",
    "                break\n",
    "\n",
    "            # Implement your voice command logic here\n",
    "\n",
    "        except sr.WaitTimeoutError:\n",
    "            print(\"Audio input timed out. Please speak again.\")\n",
    "        except sr.RequestError as e:\n",
    "            print(f\"Could not request results from Google's servers; {e}\")\n",
    "        except sr.UnknownValueError:\n",
    "            print(\"Google Speech Recognition could not understand audio. Please speak again.\")\n",
    "        except Exception as e:\n",
    "            print(f\"An error occurred: {e}\")\n",
    "            print(\"Please say again!!\")\n",
    "\n",
    "# Release resources\n",
    "engine.stop()\n"
   ]
  },
  {
   "cell_type": "code",
   "execution_count": null,
   "id": "211fd99b",
   "metadata": {},
   "outputs": [],
   "source": [
    "import os\n",
    "import webbrowser\n",
    "import tkinter as tk\n",
    "from tkinter import ttk\n",
    "import speech_recognition as sr\n",
    "\n",
    "# Initialize the speech recognizer\n",
    "r = sr.Recognizer()\n",
    "\n",
    "# Create a function to perform actions based on recognized speech\n",
    "def perform_action():\n",
    "    # Get the user's speech input\n",
    "    with sr.Microphone() as source:\n",
    "        r.adjust_for_ambient_noise(source, duration=0.3)\n",
    "        audio = r.listen(source)\n",
    "    \n",
    "    try:\n",
    "        text = r.recognize_google(audio)\n",
    "        recognized_text.set(text)\n",
    "        talk(text)\n",
    "\n",
    "        # Perform actions based on recognized text\n",
    "        if text == \"open notepad\":\n",
    "            os.system(\"notepad.exe\")\n",
    "        \n",
    "        # Open Google in the default web browser    \n",
    "        elif text == \"open google\":\n",
    "            webbrowser.open(\"https://www.google.com\")\n",
    "        elif text == \"quit\":\n",
    "            talk(\"closing the window\")\n",
    "            root.destroy()  # Close the GUI when \"quit\" is recognized\n",
    "    except sr.WaitTimeoutError:\n",
    "        recognized_text.set(\"Audio input timed out. Please speak again.\")\n",
    "    except sr.RequestError as e:\n",
    "        recognized_text.set(f\"Could not request results from Google's servers; {e}\")\n",
    "    except sr.UnknownValueError:\n",
    "        recognized_text.set(\"Google Speech Recognition could not understand audio. Please speak again.\")\n",
    "    except Exception as e:\n",
    "        recognized_text.set(f\"An error occurred: {e}\")\n",
    "\n",
    "# Create the GUI window\n",
    "root = tk.Tk()\n",
    "root.title(\"Voice-Controlled Assistant\")\n",
    "root.geometry(\"300x300\")\n",
    "\n",
    "# Create a label to display recognized text\n",
    "recognized_text = tk.StringVar()\n",
    "recognized_label = ttk.Label(root, textvariable=recognized_text)\n",
    "recognized_label.pack(pady=20)\n",
    "\n",
    "# Create a button to trigger speech recognition\n",
    "recognize_button = ttk.Button(root, text=\"Start Listening\", command=perform_action)\n",
    "recognize_button.pack()\n",
    "\n",
    "# Run the GUI main loop\n",
    "root.mainloop()\n"
   ]
  },
  {
   "cell_type": "code",
   "execution_count": null,
   "id": "8e848057",
   "metadata": {},
   "outputs": [],
   "source": []
  },
  {
   "cell_type": "code",
   "execution_count": null,
   "id": "c35a2ec4",
   "metadata": {},
   "outputs": [],
   "source": []
  }
 ],
 "metadata": {
  "kernelspec": {
   "display_name": "Python 3 (ipykernel)",
   "language": "python",
   "name": "python3"
  },
  "language_info": {
   "codemirror_mode": {
    "name": "ipython",
    "version": 3
   },
   "file_extension": ".py",
   "mimetype": "text/x-python",
   "name": "python",
   "nbconvert_exporter": "python",
   "pygments_lexer": "ipython3",
   "version": "3.10.9"
  }
 },
 "nbformat": 4,
 "nbformat_minor": 5
}
